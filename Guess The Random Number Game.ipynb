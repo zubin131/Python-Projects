{
 "cells": [
  {
   "cell_type": "markdown",
   "metadata": {},
   "source": [
    "# Guess The Random Number: Game"
   ]
  },
  {
   "cell_type": "code",
   "execution_count": null,
   "metadata": {},
   "outputs": [],
   "source": [
    "#importing numpy library\n",
    "import numpy as np\n",
    "\n",
    "#generating the random integer between 1 and 20\n",
    "gen_num = int(np.random.randint(1,20,1))\n",
    "\n",
    "#evaluating for any errors in the input from the user\n",
    "while True:\n",
    "    try:\n",
    "        #getting the inputs from the user\n",
    "        user = int(input(\"Guess the Integer Between 1-20:\"))\n",
    "        \n",
    "        #ensuring input received is between 1 & 20\n",
    "        if user>0 and user<=20:\n",
    "            break\n",
    "    except:\n",
    "        #if not a number then error\n",
    "        print(\"Oops! That was not a valid number. Please try again!\")\n",
    "\n",
    "#calculating the difference between guess and generated number        \n",
    "diff = abs(gen_num - user)\n",
    "\n",
    "#evaluating the guess\n",
    "if gen_num == user:\n",
    "    print (\"You're Correct!\")\n",
    "elif gen_num>user:\n",
    "    print(\"Generated number was {} higher than your guess\".format(diff))\n",
    "else:\n",
    "    print(\"Generated number was {} lower than your guess\".format(diff))"
   ]
  },
  {
   "cell_type": "code",
   "execution_count": null,
   "metadata": {},
   "outputs": [],
   "source": []
  }
 ],
 "metadata": {
  "kernelspec": {
   "display_name": "Python 3",
   "language": "python",
   "name": "python3"
  },
  "language_info": {
   "codemirror_mode": {
    "name": "ipython",
    "version": 3
   },
   "file_extension": ".py",
   "mimetype": "text/x-python",
   "name": "python",
   "nbconvert_exporter": "python",
   "pygments_lexer": "ipython3",
   "version": "3.7.3"
  }
 },
 "nbformat": 4,
 "nbformat_minor": 2
}
